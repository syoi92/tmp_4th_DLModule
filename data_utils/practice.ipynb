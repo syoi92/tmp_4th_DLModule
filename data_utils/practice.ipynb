{
 "cells": [
  {
   "cell_type": "code",
   "execution_count": 1,
   "metadata": {},
   "outputs": [],
   "source": [
    "from glob import glob\n",
    "import numpy as np\n",
    "import cv2, os"
   ]
  },
  {
   "cell_type": "code",
   "execution_count": 2,
   "metadata": {},
   "outputs": [],
   "source": [
    "pred_path = './pred.png'\n",
    "gt_path = './gt.png'"
   ]
  },
  {
   "cell_type": "code",
   "execution_count": 3,
   "metadata": {},
   "outputs": [],
   "source": [
    "def target_rgb2label(target_img, label_colors):\n",
    "    width, height, _ = target_img.shape\n",
    "    target_label = np.zeros([width, height], dtype=np.uint8)\n",
    "    for it in range(1, len(label_colors)):\n",
    "        rr, cc = np.where(np.all(target_img == label_colors[it], axis=-1))\n",
    "        target_label[rr, cc] = it\n",
    "    return target_label"
   ]
  },
  {
   "cell_type": "code",
   "execution_count": 11,
   "metadata": {},
   "outputs": [],
   "source": [
    "pred = cv2.imread(pred_path)\n",
    "gt = cv2.imread(gt_path)\n",
    "color_map = np.array([[0, 0, 255], [255, 232, 131], [255, 0, 0],\n",
    "                        [0, 255, 0], [131, 89, 161], [175, 89, 62]])\n",
    "\n",
    "\n",
    "if not pred.shape == gt.shape:\n",
    "    pred = cv2.resize(pred, gt.shape[1::-1], interpolation=cv2.INTER_NEAREST)\n",
    "\n",
    "gt_ = target_rgb2label(gt[:,:,[2,1,0]], color_map)\n",
    "pred_ = target_rgb2label(pred[:,:,[2,1,0]], color_map)"
   ]
  },
  {
   "cell_type": "code",
   "execution_count": 19,
   "metadata": {},
   "outputs": [],
   "source": [
    "nc = len(color_map) - 1\n",
    "confuse_matrix = np.zeros([nc, nc])\n",
    "\n",
    "for it in range(nc):  # gt\n",
    "    for jt in range(nc):  # pred\n",
    "        confuse_matrix[it, jt] = np.sum(np.logical_and(gt_ == (it+1), pred_ == (jt+1)))\n"
   ]
  },
  {
   "cell_type": "code",
   "execution_count": 25,
   "metadata": {},
   "outputs": [],
   "source": [
    "nc = len(color_map)\n",
    "confuse_matrix = np.zeros([nc, nc])\n",
    "\n",
    "for it in range(nc):  # gt\n",
    "    for jt in range(nc):  # pred\n",
    "        confuse_matrix[it, jt] = np.sum(np.logical_and(gt_ == it, pred_ == jt))\n",
    "\n"
   ]
  },
  {
   "cell_type": "code",
   "execution_count": 34,
   "metadata": {},
   "outputs": [
    {
     "data": {
      "text/plain": [
       "array([[617827.,   3786.,      0.,    476.,     23.,      5.],\n",
       "       [  3791.,  23322.,      0.,     53.,     54.,    127.],\n",
       "       [     0.,      0.,      0.,      0.,      0.,      0.],\n",
       "       [   575.,     45.,      0.,   2489.,      0.,      5.],\n",
       "       [     8.,     71.,      0.,      0.,   1669.,      0.],\n",
       "       [   242.,    115.,      0.,      2.,      0.,   4729.]])"
      ]
     },
     "execution_count": 34,
     "metadata": {},
     "output_type": "execute_result"
    }
   ],
   "source": [
    "np.set_printoptions(suppress=True)\n",
    "confuse_matrix"
   ]
  },
  {
   "cell_type": "code",
   "execution_count": 36,
   "metadata": {},
   "outputs": [],
   "source": [
    "confusion_matrix = confuse_matrix\n",
    "n = confusion_matrix.shape[0]\n",
    "precisions, recalls = [], []\n",
    "for it in range(1, n):\n",
    "    recall = confusion_matrix[it, it] / np.sum(confusion_matrix[it, :] + 10**-5)\n",
    "    precision = confusion_matrix[it, it] / np.sum(confusion_matrix[:, it] + 10**-5)\n",
    "    recalls.append(recall)\n",
    "    precisions.append(precision)"
   ]
  },
  {
   "cell_type": "code",
   "execution_count": 49,
   "metadata": {},
   "outputs": [],
   "source": [
    "pp=[precisions, recalls]\n"
   ]
  },
  {
   "cell_type": "code",
   "execution_count": 54,
   "metadata": {},
   "outputs": [
    {
     "name": "stdout",
     "output_type": "stream",
     "text": [
      "[[617827.   3786.      0.    476.     23.      5.]\n",
      " [  3791.  23322.      0.     53.     54.    127.]\n",
      " [     0.      0.      0.      0.      0.      0.]\n",
      " [   575.     45.      0.   2489.      0.      5.]\n",
      " [     8.     71.      0.      0.   1669.      0.]\n",
      " [   242.    115.      0.      2.      0.   4729.]]\n",
      "\n",
      "precision\n",
      "[0.8530670452034083, 0.0, 0.824172169056182, 0.9558991653184707, 0.9718454462986588]\n",
      "recall\n",
      "[0.8528174918210755, 0.0, 0.7992934977657, 0.9548054592172038, 0.9294418129389724]\n"
     ]
    }
   ],
   "source": [
    "print(confusion_matrix, end='\\n\\n')\n",
    "print(\"precision\")\n",
    "print(pp[0])\n",
    "print(\"recall\")\n",
    "print(pp[1])"
   ]
  },
  {
   "cell_type": "code",
   "execution_count": null,
   "metadata": {},
   "outputs": [],
   "source": [
    "cv2.imshow(\"test\", gt)\n",
    "cv2.waitKey(0)\n",
    "cv2.destroyAllWindows()"
   ]
  }
 ],
 "metadata": {
  "kernelspec": {
   "display_name": "Python 3",
   "language": "python",
   "name": "python3"
  },
  "language_info": {
   "codemirror_mode": {
    "name": "ipython",
    "version": 3
   },
   "file_extension": ".py",
   "mimetype": "text/x-python",
   "name": "python",
   "nbconvert_exporter": "python",
   "pygments_lexer": "ipython3",
   "version": "3.6.10"
  }
 },
 "nbformat": 4,
 "nbformat_minor": 4
}
